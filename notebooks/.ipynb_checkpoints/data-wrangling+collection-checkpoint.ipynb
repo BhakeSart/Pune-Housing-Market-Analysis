{
 "cells": [
  {
   "cell_type": "code",
   "execution_count": 3,
   "id": "eeebf167-a56b-4c56-9083-adaad91947cf",
   "metadata": {},
   "outputs": [],
   "source": [
    "import csv\n",
    "from bs4 import BeautifulSoup\n",
    "from selenium import webdriver"
   ]
  },
  {
   "cell_type": "code",
   "execution_count": 4,
   "id": "aa2f6b4e-7b47-4186-851c-f8618847642a",
   "metadata": {},
   "outputs": [],
   "source": [
    "# !pip install selenium"
   ]
  },
  {
   "cell_type": "code",
   "execution_count": 5,
   "id": "dfb394c5-a358-423f-8412-54b6b45cea54",
   "metadata": {},
   "outputs": [],
   "source": [
    "def get_url(page):   \n",
    "    url = 'https://www.makaan.com/listings?propertyType=apartment&budget=,100000000&sortBy=popularity&listingType=buy&pageType=LISTINGS_PROPERTY_URLS&cityName=Pune&cityId=21&templateId=MAKAAN_CITY_LISTING_BUY&page={}'.format(page)\n",
    "    return url"
   ]
  },
  {
   "cell_type": "code",
   "execution_count": 6,
   "id": "d05a1aa5-ee9f-458c-a953-7055192bb4f9",
   "metadata": {},
   "outputs": [],
   "source": [
    "def get_output(in_put):\n",
    "    \n",
    "    try:\n",
    "        bhk = in_put.find('a',{'data-type' : 'listing-link'}).text.strip().split()[0]\n",
    "    except AttributeError:\n",
    "        bhk = ''\n",
    "        \n",
    "    try:\n",
    "        locality = in_put.find('a',{'data-type' : 'localityName'}).text.strip().split(',')[-2]\n",
    "    except AttributeError:\n",
    "        locality = ''\n",
    "        \n",
    "    try:\n",
    "        Price = in_put.find('div',{'data-type' : 'price-link'}).text.strip()\n",
    "    except AttributeError:\n",
    "        Price = ''\n",
    "\n",
    "    try:\n",
    "        sqft = in_put.find('td',{'class' : 'size'}).text.strip()\n",
    "    except AttributeError:\n",
    "        sqft = ''\n",
    " \n",
    "    try:\n",
    "        status = in_put.find('td',{'class' : 'val'}).text.strip()\n",
    "    except AttributeError:\n",
    "        status = ''\n",
    "\n",
    "    try:\n",
    "        Possession  = in_put.find('li',{'title' : 'Possession by'}).text.strip()\n",
    "    except AttributeError:\n",
    "        Possession = ''\n",
    "    \n",
    "    try:\n",
    "        price_per_sqft = in_put.find('td',{'class' : 'lbl rate'}).text.strip()\n",
    "    except AttributeError:\n",
    "        price_per_sqft = ''\n",
    "        \n",
    "    try:\n",
    "        old = in_put.find('li',{'title' : 'old'}).text.strip().split()[0]\n",
    "    except AttributeError:\n",
    "        old = ''\n",
    "        \n",
    "    try:\n",
    "        bath = in_put.find('li',{'title' : 'Bathrooms'}).text.strip().split()[0]\n",
    "    except AttributeError:\n",
    "        bath = ''\n",
    "                \n",
    "        \n",
    "    output = (bhk,locality,Price,sqft,status,Possession,price_per_sqft,old,bath)\n",
    "    \n",
    "    return output"
   ]
  },
  {
   "cell_type": "code",
   "execution_count": 11,
   "id": "8f48888c-3258-4ae0-a330-86640f13657e",
   "metadata": {},
   "outputs": [],
   "source": [
    "def HousingDataScrap():\n",
    "    output = []\n",
    "    browser = webdriver.Chrome()\n",
    "    # driver = webdriver.Chrome('D:\\\\Python Files\\\\chromedriver')\n",
    "    for i in range(2001,2905):\n",
    "        url = get_url(i)\n",
    "        browser.get(url)\n",
    "        soup = BeautifulSoup(browser.page_source,'html.parser')\n",
    "        in_puts  = soup.find_all('li','cardholder')\n",
    "        for j in in_puts:\n",
    "            output.append(get_output(j))\n",
    "    \n",
    "    with open('Pune_Housing.csv','w',newline='',encoding='utf-8') as file:\n",
    "        a = csv.writer(file)\n",
    "        a.writerow(['bhk','locality','Price','sqft','status','Possession','price_per_sqft','Age_old','bath'])\n",
    "        a.writerows(output) "
   ]
  },
  {
   "cell_type": "code",
   "execution_count": 12,
   "id": "80ca5383-c3b6-4bae-ab48-a1f2ff3ab3b1",
   "metadata": {},
   "outputs": [],
   "source": [
    "HousingDataScrap()"
   ]
  },
  {
   "cell_type": "code",
   "execution_count": 13,
   "id": "112a0a39-20a0-4cdb-b8a5-3659565f4cc9",
   "metadata": {},
   "outputs": [],
   "source": [
    "import pandas as pd\n",
    "\n",
    "df = pd.read_csv('Pune_Housing.csv')"
   ]
  },
  {
   "cell_type": "code",
   "execution_count": 14,
   "id": "46319bf6-566f-4f49-9324-c625cba9ea80",
   "metadata": {},
   "outputs": [
    {
     "data": {
      "text/html": [
       "<div>\n",
       "<style scoped>\n",
       "    .dataframe tbody tr th:only-of-type {\n",
       "        vertical-align: middle;\n",
       "    }\n",
       "\n",
       "    .dataframe tbody tr th {\n",
       "        vertical-align: top;\n",
       "    }\n",
       "\n",
       "    .dataframe thead th {\n",
       "        text-align: right;\n",
       "    }\n",
       "</style>\n",
       "<table border=\"1\" class=\"dataframe\">\n",
       "  <thead>\n",
       "    <tr style=\"text-align: right;\">\n",
       "      <th></th>\n",
       "      <th>bhk</th>\n",
       "      <th>locality</th>\n",
       "      <th>Price</th>\n",
       "      <th>sqft</th>\n",
       "      <th>status</th>\n",
       "      <th>Possession</th>\n",
       "      <th>price_per_sqft</th>\n",
       "      <th>Age_old</th>\n",
       "      <th>bath</th>\n",
       "    </tr>\n",
       "  </thead>\n",
       "  <tbody>\n",
       "    <tr>\n",
       "      <th>0</th>\n",
       "      <td>2</td>\n",
       "      <td>Tathawade</td>\n",
       "      <td>48 L</td>\n",
       "      <td>950</td>\n",
       "      <td>Under Construction</td>\n",
       "      <td>Possession by Aug 2022</td>\n",
       "      <td>5,052 / sq ft</td>\n",
       "      <td>NaN</td>\n",
       "      <td>2.0</td>\n",
       "    </tr>\n",
       "    <tr>\n",
       "      <th>1</th>\n",
       "      <td>2</td>\n",
       "      <td>Tathawade</td>\n",
       "      <td>47 L</td>\n",
       "      <td>920</td>\n",
       "      <td>Under Construction</td>\n",
       "      <td>NaN</td>\n",
       "      <td>5,108 / sq ft</td>\n",
       "      <td>NaN</td>\n",
       "      <td>2.0</td>\n",
       "    </tr>\n",
       "    <tr>\n",
       "      <th>2</th>\n",
       "      <td>2</td>\n",
       "      <td>Ravet</td>\n",
       "      <td>48 L</td>\n",
       "      <td>965</td>\n",
       "      <td>Under Construction</td>\n",
       "      <td>Possession by Mar 2023</td>\n",
       "      <td>4,974 / sq ft</td>\n",
       "      <td>NaN</td>\n",
       "      <td>2.0</td>\n",
       "    </tr>\n",
       "    <tr>\n",
       "      <th>3</th>\n",
       "      <td>2</td>\n",
       "      <td>Ravet</td>\n",
       "      <td>50 L</td>\n",
       "      <td>975</td>\n",
       "      <td>Ready to move</td>\n",
       "      <td>NaN</td>\n",
       "      <td>5,128 / sq ft</td>\n",
       "      <td>1.0</td>\n",
       "      <td>2.0</td>\n",
       "    </tr>\n",
       "    <tr>\n",
       "      <th>4</th>\n",
       "      <td>3</td>\n",
       "      <td>Tathawade</td>\n",
       "      <td>62 L</td>\n",
       "      <td>1125</td>\n",
       "      <td>Under Construction</td>\n",
       "      <td>Possession by Mar 2023</td>\n",
       "      <td>5,511 / sq ft</td>\n",
       "      <td>NaN</td>\n",
       "      <td>2.0</td>\n",
       "    </tr>\n",
       "  </tbody>\n",
       "</table>\n",
       "</div>"
      ],
      "text/plain": [
       "   bhk   locality Price  sqft              status              Possession  \\\n",
       "0    2  Tathawade  48 L   950  Under Construction  Possession by Aug 2022   \n",
       "1    2  Tathawade  47 L   920  Under Construction                     NaN   \n",
       "2    2      Ravet  48 L   965  Under Construction  Possession by Mar 2023   \n",
       "3    2      Ravet  50 L   975       Ready to move                     NaN   \n",
       "4    3  Tathawade  62 L  1125  Under Construction  Possession by Mar 2023   \n",
       "\n",
       "  price_per_sqft  Age_old  bath  \n",
       "0  5,052 / sq ft      NaN   2.0  \n",
       "1  5,108 / sq ft      NaN   2.0  \n",
       "2  4,974 / sq ft      NaN   2.0  \n",
       "3  5,128 / sq ft      1.0   2.0  \n",
       "4  5,511 / sq ft      NaN   2.0  "
      ]
     },
     "execution_count": 14,
     "metadata": {},
     "output_type": "execute_result"
    }
   ],
   "source": [
    "df.head()"
   ]
  },
  {
   "cell_type": "code",
   "execution_count": 15,
   "id": "d3c36a2a-3c84-4180-baa0-0cd3c5559799",
   "metadata": {},
   "outputs": [
    {
     "data": {
      "text/plain": [
       "(8640, 9)"
      ]
     },
     "execution_count": 15,
     "metadata": {},
     "output_type": "execute_result"
    }
   ],
   "source": [
    "df.shape"
   ]
  },
  {
   "cell_type": "code",
   "execution_count": 16,
   "id": "9649fbaa-b151-412d-9200-803d523c5a5a",
   "metadata": {},
   "outputs": [],
   "source": [
    "import numpy as np\n",
    "import seaborn as sns\n",
    "import matplotlib.pyplot as plt\n",
    "sns.set_theme(style=\"whitegrid\")"
   ]
  },
  {
   "cell_type": "code",
   "execution_count": 17,
   "id": "d28671b3-6d52-4751-8c0b-efaaf49af1b4",
   "metadata": {},
   "outputs": [
    {
     "data": {
      "text/plain": [
       "Age_old           5915\n",
       "Possession        4094\n",
       "bath              3819\n",
       "bhk                  0\n",
       "locality             0\n",
       "Price                0\n",
       "sqft                 0\n",
       "status               0\n",
       "price_per_sqft       0\n",
       "dtype: int64"
      ]
     },
     "execution_count": 17,
     "metadata": {},
     "output_type": "execute_result"
    }
   ],
   "source": [
    "df.isnull().sum().sort_values(ascending=False)"
   ]
  },
  {
   "cell_type": "code",
   "execution_count": 18,
   "id": "a6a6ddb4-f6c7-4723-9679-c9c8a0e6833d",
   "metadata": {},
   "outputs": [
    {
     "data": {
      "text/html": [
       "<div>\n",
       "<style scoped>\n",
       "    .dataframe tbody tr th:only-of-type {\n",
       "        vertical-align: middle;\n",
       "    }\n",
       "\n",
       "    .dataframe tbody tr th {\n",
       "        vertical-align: top;\n",
       "    }\n",
       "\n",
       "    .dataframe thead th {\n",
       "        text-align: right;\n",
       "    }\n",
       "</style>\n",
       "<table border=\"1\" class=\"dataframe\">\n",
       "  <thead>\n",
       "    <tr style=\"text-align: right;\">\n",
       "      <th></th>\n",
       "      <th>bhk</th>\n",
       "      <th>locality</th>\n",
       "      <th>Price</th>\n",
       "      <th>sqft</th>\n",
       "      <th>status</th>\n",
       "      <th>Possession</th>\n",
       "      <th>price_per_sqft</th>\n",
       "      <th>Age_old</th>\n",
       "      <th>bath</th>\n",
       "    </tr>\n",
       "  </thead>\n",
       "  <tbody>\n",
       "    <tr>\n",
       "      <th>0</th>\n",
       "      <td>2</td>\n",
       "      <td>Tathawade</td>\n",
       "      <td>48 L</td>\n",
       "      <td>950</td>\n",
       "      <td>Under Construction</td>\n",
       "      <td>Possession by Aug 2022</td>\n",
       "      <td>5,052 / sq ft</td>\n",
       "      <td>NaN</td>\n",
       "      <td>2.0</td>\n",
       "    </tr>\n",
       "    <tr>\n",
       "      <th>1</th>\n",
       "      <td>2</td>\n",
       "      <td>Tathawade</td>\n",
       "      <td>47 L</td>\n",
       "      <td>920</td>\n",
       "      <td>Under Construction</td>\n",
       "      <td>NaN</td>\n",
       "      <td>5,108 / sq ft</td>\n",
       "      <td>NaN</td>\n",
       "      <td>2.0</td>\n",
       "    </tr>\n",
       "    <tr>\n",
       "      <th>2</th>\n",
       "      <td>2</td>\n",
       "      <td>Ravet</td>\n",
       "      <td>48 L</td>\n",
       "      <td>965</td>\n",
       "      <td>Under Construction</td>\n",
       "      <td>Possession by Mar 2023</td>\n",
       "      <td>4,974 / sq ft</td>\n",
       "      <td>NaN</td>\n",
       "      <td>2.0</td>\n",
       "    </tr>\n",
       "    <tr>\n",
       "      <th>3</th>\n",
       "      <td>2</td>\n",
       "      <td>Ravet</td>\n",
       "      <td>50 L</td>\n",
       "      <td>975</td>\n",
       "      <td>Ready to move</td>\n",
       "      <td>NaN</td>\n",
       "      <td>5,128 / sq ft</td>\n",
       "      <td>1.0</td>\n",
       "      <td>2.0</td>\n",
       "    </tr>\n",
       "    <tr>\n",
       "      <th>4</th>\n",
       "      <td>3</td>\n",
       "      <td>Tathawade</td>\n",
       "      <td>62 L</td>\n",
       "      <td>1125</td>\n",
       "      <td>Under Construction</td>\n",
       "      <td>Possession by Mar 2023</td>\n",
       "      <td>5,511 / sq ft</td>\n",
       "      <td>NaN</td>\n",
       "      <td>2.0</td>\n",
       "    </tr>\n",
       "  </tbody>\n",
       "</table>\n",
       "</div>"
      ],
      "text/plain": [
       "   bhk   locality Price  sqft              status              Possession  \\\n",
       "0    2  Tathawade  48 L   950  Under Construction  Possession by Aug 2022   \n",
       "1    2  Tathawade  47 L   920  Under Construction                     NaN   \n",
       "2    2      Ravet  48 L   965  Under Construction  Possession by Mar 2023   \n",
       "3    2      Ravet  50 L   975       Ready to move                     NaN   \n",
       "4    3  Tathawade  62 L  1125  Under Construction  Possession by Mar 2023   \n",
       "\n",
       "  price_per_sqft  Age_old  bath  \n",
       "0  5,052 / sq ft      NaN   2.0  \n",
       "1  5,108 / sq ft      NaN   2.0  \n",
       "2  4,974 / sq ft      NaN   2.0  \n",
       "3  5,128 / sq ft      1.0   2.0  \n",
       "4  5,511 / sq ft      NaN   2.0  "
      ]
     },
     "execution_count": 18,
     "metadata": {},
     "output_type": "execute_result"
    }
   ],
   "source": [
    "df.head()"
   ]
  },
  {
   "cell_type": "code",
   "execution_count": 20,
   "id": "4e6b28b0-c605-4217-9512-f6a92eb24308",
   "metadata": {},
   "outputs": [],
   "source": [
    "df.dropna(axis=0,how='all',inplace=True)"
   ]
  },
  {
   "cell_type": "code",
   "execution_count": 21,
   "id": "bfdf5297-b6e3-46a5-a967-8d89b222b6f5",
   "metadata": {},
   "outputs": [
    {
     "data": {
      "text/plain": [
       "Age_old           5915\n",
       "Possession        4094\n",
       "bath              3819\n",
       "bhk                  0\n",
       "locality             0\n",
       "Price                0\n",
       "sqft                 0\n",
       "status               0\n",
       "price_per_sqft       0\n",
       "dtype: int64"
      ]
     },
     "execution_count": 21,
     "metadata": {},
     "output_type": "execute_result"
    }
   ],
   "source": [
    "df.isnull().sum().sort_values(ascending=False)"
   ]
  },
  {
   "cell_type": "code",
   "execution_count": 22,
   "id": "e1d8e48b-eb05-42c3-9abe-0eb520f480de",
   "metadata": {},
   "outputs": [
    {
     "data": {
      "text/html": [
       "<div>\n",
       "<style scoped>\n",
       "    .dataframe tbody tr th:only-of-type {\n",
       "        vertical-align: middle;\n",
       "    }\n",
       "\n",
       "    .dataframe tbody tr th {\n",
       "        vertical-align: top;\n",
       "    }\n",
       "\n",
       "    .dataframe thead th {\n",
       "        text-align: right;\n",
       "    }\n",
       "</style>\n",
       "<table border=\"1\" class=\"dataframe\">\n",
       "  <thead>\n",
       "    <tr style=\"text-align: right;\">\n",
       "      <th></th>\n",
       "      <th>bhk</th>\n",
       "      <th>locality</th>\n",
       "      <th>Price</th>\n",
       "      <th>sqft</th>\n",
       "      <th>status</th>\n",
       "      <th>Possession</th>\n",
       "      <th>price_per_sqft</th>\n",
       "      <th>Age_old</th>\n",
       "      <th>bath</th>\n",
       "    </tr>\n",
       "  </thead>\n",
       "  <tbody>\n",
       "    <tr>\n",
       "      <th>109</th>\n",
       "      <td>1</td>\n",
       "      <td>Alandi</td>\n",
       "      <td>29.92 L</td>\n",
       "      <td>600</td>\n",
       "      <td>Under Construction</td>\n",
       "      <td>Possession by Nov 2022</td>\n",
       "      <td>4,988 / sq ft</td>\n",
       "      <td>NaN</td>\n",
       "      <td>NaN</td>\n",
       "    </tr>\n",
       "    <tr>\n",
       "      <th>111</th>\n",
       "      <td>1</td>\n",
       "      <td>Alandi</td>\n",
       "      <td>22.04 L</td>\n",
       "      <td>442</td>\n",
       "      <td>Under Construction</td>\n",
       "      <td>Possession by Nov 2022</td>\n",
       "      <td>4,988 / sq ft</td>\n",
       "      <td>NaN</td>\n",
       "      <td>NaN</td>\n",
       "    </tr>\n",
       "    <tr>\n",
       "      <th>113</th>\n",
       "      <td>1</td>\n",
       "      <td>Alandi</td>\n",
       "      <td>29.92 L</td>\n",
       "      <td>600</td>\n",
       "      <td>Under Construction</td>\n",
       "      <td>Possession by Nov 2022</td>\n",
       "      <td>4,988 / sq ft</td>\n",
       "      <td>NaN</td>\n",
       "      <td>NaN</td>\n",
       "    </tr>\n",
       "    <tr>\n",
       "      <th>115</th>\n",
       "      <td>1</td>\n",
       "      <td>Alandi</td>\n",
       "      <td>22.04 L</td>\n",
       "      <td>442</td>\n",
       "      <td>Under Construction</td>\n",
       "      <td>Possession by Nov 2022</td>\n",
       "      <td>4,988 / sq ft</td>\n",
       "      <td>NaN</td>\n",
       "      <td>NaN</td>\n",
       "    </tr>\n",
       "    <tr>\n",
       "      <th>117</th>\n",
       "      <td>1</td>\n",
       "      <td>Alandi</td>\n",
       "      <td>25.28 L</td>\n",
       "      <td>507</td>\n",
       "      <td>Under Construction</td>\n",
       "      <td>Possession by Nov 2022</td>\n",
       "      <td>4,988 / sq ft</td>\n",
       "      <td>NaN</td>\n",
       "      <td>NaN</td>\n",
       "    </tr>\n",
       "    <tr>\n",
       "      <th>...</th>\n",
       "      <td>...</td>\n",
       "      <td>...</td>\n",
       "      <td>...</td>\n",
       "      <td>...</td>\n",
       "      <td>...</td>\n",
       "      <td>...</td>\n",
       "      <td>...</td>\n",
       "      <td>...</td>\n",
       "      <td>...</td>\n",
       "    </tr>\n",
       "    <tr>\n",
       "      <th>8631</th>\n",
       "      <td>2</td>\n",
       "      <td>Kharadi</td>\n",
       "      <td>94.27 L</td>\n",
       "      <td>855</td>\n",
       "      <td>Under Construction</td>\n",
       "      <td>Possession by Nov 2025</td>\n",
       "      <td>11,025 / sq ft</td>\n",
       "      <td>NaN</td>\n",
       "      <td>NaN</td>\n",
       "    </tr>\n",
       "    <tr>\n",
       "      <th>8632</th>\n",
       "      <td>2</td>\n",
       "      <td>Wagholi</td>\n",
       "      <td>56.23 L</td>\n",
       "      <td>1025</td>\n",
       "      <td>Under Construction</td>\n",
       "      <td>Possession by Aug 2024</td>\n",
       "      <td>5,486 / sq ft</td>\n",
       "      <td>NaN</td>\n",
       "      <td>2.0</td>\n",
       "    </tr>\n",
       "    <tr>\n",
       "      <th>8637</th>\n",
       "      <td>2</td>\n",
       "      <td>Moshi</td>\n",
       "      <td>79 L</td>\n",
       "      <td>1176</td>\n",
       "      <td>Under Construction</td>\n",
       "      <td>Possession by Jun 2028</td>\n",
       "      <td>6,717 / sq ft</td>\n",
       "      <td>NaN</td>\n",
       "      <td>2.0</td>\n",
       "    </tr>\n",
       "    <tr>\n",
       "      <th>8638</th>\n",
       "      <td>2</td>\n",
       "      <td>Alandi</td>\n",
       "      <td>50.5 L</td>\n",
       "      <td>1092</td>\n",
       "      <td>Under Construction</td>\n",
       "      <td>Possession by Dec 2027</td>\n",
       "      <td>4,624 / sq ft</td>\n",
       "      <td>NaN</td>\n",
       "      <td>2.0</td>\n",
       "    </tr>\n",
       "    <tr>\n",
       "      <th>8639</th>\n",
       "      <td>2</td>\n",
       "      <td>spine road</td>\n",
       "      <td>66.99 L</td>\n",
       "      <td>1072</td>\n",
       "      <td>Under Construction</td>\n",
       "      <td>NaN</td>\n",
       "      <td>6,249 / sq ft</td>\n",
       "      <td>NaN</td>\n",
       "      <td>2.0</td>\n",
       "    </tr>\n",
       "  </tbody>\n",
       "</table>\n",
       "<p>2577 rows × 9 columns</p>\n",
       "</div>"
      ],
      "text/plain": [
       "      bhk    locality    Price  sqft              status  \\\n",
       "109     1      Alandi  29.92 L   600  Under Construction   \n",
       "111     1      Alandi  22.04 L   442  Under Construction   \n",
       "113     1      Alandi  29.92 L   600  Under Construction   \n",
       "115     1      Alandi  22.04 L   442  Under Construction   \n",
       "117     1      Alandi  25.28 L   507  Under Construction   \n",
       "...   ...         ...      ...   ...                 ...   \n",
       "8631    2     Kharadi  94.27 L   855  Under Construction   \n",
       "8632    2     Wagholi  56.23 L  1025  Under Construction   \n",
       "8637    2       Moshi     79 L  1176  Under Construction   \n",
       "8638    2      Alandi   50.5 L  1092  Under Construction   \n",
       "8639    2  spine road  66.99 L  1072  Under Construction   \n",
       "\n",
       "                  Possession  price_per_sqft  Age_old  bath  \n",
       "109   Possession by Nov 2022   4,988 / sq ft      NaN   NaN  \n",
       "111   Possession by Nov 2022   4,988 / sq ft      NaN   NaN  \n",
       "113   Possession by Nov 2022   4,988 / sq ft      NaN   NaN  \n",
       "115   Possession by Nov 2022   4,988 / sq ft      NaN   NaN  \n",
       "117   Possession by Nov 2022   4,988 / sq ft      NaN   NaN  \n",
       "...                      ...             ...      ...   ...  \n",
       "8631  Possession by Nov 2025  11,025 / sq ft      NaN   NaN  \n",
       "8632  Possession by Aug 2024   5,486 / sq ft      NaN   2.0  \n",
       "8637  Possession by Jun 2028   6,717 / sq ft      NaN   2.0  \n",
       "8638  Possession by Dec 2027   4,624 / sq ft      NaN   2.0  \n",
       "8639                     NaN   6,249 / sq ft      NaN   2.0  \n",
       "\n",
       "[2577 rows x 9 columns]"
      ]
     },
     "execution_count": 22,
     "metadata": {},
     "output_type": "execute_result"
    }
   ],
   "source": [
    "df[df.duplicated(keep = 'first')]"
   ]
  },
  {
   "cell_type": "code",
   "execution_count": 23,
   "id": "5818a06b-e249-4c2a-aeb8-d1f51e5cace1",
   "metadata": {},
   "outputs": [],
   "source": [
    "df.drop_duplicates(keep='first',inplace=True)"
   ]
  },
  {
   "cell_type": "code",
   "execution_count": 24,
   "id": "3624ddd9-f269-4acc-bd31-8c65a5ed7465",
   "metadata": {},
   "outputs": [
    {
     "data": {
      "text/plain": [
       "(6063, 9)"
      ]
     },
     "execution_count": 24,
     "metadata": {},
     "output_type": "execute_result"
    }
   ],
   "source": [
    "df.shape"
   ]
  },
  {
   "cell_type": "code",
   "execution_count": 25,
   "id": "64d18d8f-0d65-48fa-bdff-748c9fd0ea3e",
   "metadata": {},
   "outputs": [
    {
     "data": {
      "text/html": [
       "<div>\n",
       "<style scoped>\n",
       "    .dataframe tbody tr th:only-of-type {\n",
       "        vertical-align: middle;\n",
       "    }\n",
       "\n",
       "    .dataframe tbody tr th {\n",
       "        vertical-align: top;\n",
       "    }\n",
       "\n",
       "    .dataframe thead th {\n",
       "        text-align: right;\n",
       "    }\n",
       "</style>\n",
       "<table border=\"1\" class=\"dataframe\">\n",
       "  <thead>\n",
       "    <tr style=\"text-align: right;\">\n",
       "      <th></th>\n",
       "      <th>bhk</th>\n",
       "      <th>locality</th>\n",
       "      <th>Price</th>\n",
       "      <th>sqft</th>\n",
       "      <th>status</th>\n",
       "      <th>Possession</th>\n",
       "      <th>price_per_sqft</th>\n",
       "      <th>Age_old</th>\n",
       "      <th>bath</th>\n",
       "    </tr>\n",
       "  </thead>\n",
       "  <tbody>\n",
       "    <tr>\n",
       "      <th>0</th>\n",
       "      <td>2</td>\n",
       "      <td>Tathawade</td>\n",
       "      <td>48 L</td>\n",
       "      <td>950</td>\n",
       "      <td>Under Construction</td>\n",
       "      <td>Possession by Aug 2022</td>\n",
       "      <td>5,052 / sq ft</td>\n",
       "      <td>NaN</td>\n",
       "      <td>2.0</td>\n",
       "    </tr>\n",
       "    <tr>\n",
       "      <th>1</th>\n",
       "      <td>2</td>\n",
       "      <td>Tathawade</td>\n",
       "      <td>47 L</td>\n",
       "      <td>920</td>\n",
       "      <td>Under Construction</td>\n",
       "      <td>NaN</td>\n",
       "      <td>5,108 / sq ft</td>\n",
       "      <td>NaN</td>\n",
       "      <td>2.0</td>\n",
       "    </tr>\n",
       "    <tr>\n",
       "      <th>2</th>\n",
       "      <td>2</td>\n",
       "      <td>Ravet</td>\n",
       "      <td>48 L</td>\n",
       "      <td>965</td>\n",
       "      <td>Under Construction</td>\n",
       "      <td>Possession by Mar 2023</td>\n",
       "      <td>4,974 / sq ft</td>\n",
       "      <td>NaN</td>\n",
       "      <td>2.0</td>\n",
       "    </tr>\n",
       "    <tr>\n",
       "      <th>3</th>\n",
       "      <td>2</td>\n",
       "      <td>Ravet</td>\n",
       "      <td>50 L</td>\n",
       "      <td>975</td>\n",
       "      <td>Ready to move</td>\n",
       "      <td>NaN</td>\n",
       "      <td>5,128 / sq ft</td>\n",
       "      <td>1.0</td>\n",
       "      <td>2.0</td>\n",
       "    </tr>\n",
       "    <tr>\n",
       "      <th>4</th>\n",
       "      <td>3</td>\n",
       "      <td>Tathawade</td>\n",
       "      <td>62 L</td>\n",
       "      <td>1125</td>\n",
       "      <td>Under Construction</td>\n",
       "      <td>Possession by Mar 2023</td>\n",
       "      <td>5,511 / sq ft</td>\n",
       "      <td>NaN</td>\n",
       "      <td>2.0</td>\n",
       "    </tr>\n",
       "  </tbody>\n",
       "</table>\n",
       "</div>"
      ],
      "text/plain": [
       "   bhk   locality Price  sqft              status              Possession  \\\n",
       "0    2  Tathawade  48 L   950  Under Construction  Possession by Aug 2022   \n",
       "1    2  Tathawade  47 L   920  Under Construction                     NaN   \n",
       "2    2      Ravet  48 L   965  Under Construction  Possession by Mar 2023   \n",
       "3    2      Ravet  50 L   975       Ready to move                     NaN   \n",
       "4    3  Tathawade  62 L  1125  Under Construction  Possession by Mar 2023   \n",
       "\n",
       "  price_per_sqft  Age_old  bath  \n",
       "0  5,052 / sq ft      NaN   2.0  \n",
       "1  5,108 / sq ft      NaN   2.0  \n",
       "2  4,974 / sq ft      NaN   2.0  \n",
       "3  5,128 / sq ft      1.0   2.0  \n",
       "4  5,511 / sq ft      NaN   2.0  "
      ]
     },
     "execution_count": 25,
     "metadata": {},
     "output_type": "execute_result"
    }
   ],
   "source": [
    "df.head()"
   ]
  },
  {
   "cell_type": "code",
   "execution_count": 26,
   "id": "57abe2a5-8107-4fb3-9478-f6e14433e814",
   "metadata": {},
   "outputs": [],
   "source": [
    "df.price_per_sqft = df.price_per_sqft.apply(lambda x : x.replace('/ sq ft',''))"
   ]
  },
  {
   "cell_type": "code",
   "execution_count": 27,
   "id": "ea089b54-1eba-45bb-84ad-17bbfda92a0d",
   "metadata": {},
   "outputs": [],
   "source": [
    "df.price_per_sqft = df.price_per_sqft.apply(lambda x : x.replace(',',''))"
   ]
  },
  {
   "cell_type": "code",
   "execution_count": 28,
   "id": "e1ed488f-2716-4b00-975f-f42b0291f015",
   "metadata": {},
   "outputs": [
    {
     "data": {
      "text/plain": [
       "Age_old       3900\n",
       "Possession    3369\n",
       "bath          2010\n",
       "bhk              0\n",
       "locality         0\n",
       "dtype: int64"
      ]
     },
     "execution_count": 28,
     "metadata": {},
     "output_type": "execute_result"
    }
   ],
   "source": [
    "df.isnull().sum().sort_values(ascending=False).head()"
   ]
  },
  {
   "cell_type": "code",
   "execution_count": 29,
   "id": "c16b454f-70af-4ab1-90ea-022e591571d1",
   "metadata": {},
   "outputs": [],
   "source": [
    "df.dropna(subset=['Possession','Age_old'],how='all',inplace=True)"
   ]
  },
  {
   "cell_type": "code",
   "execution_count": 30,
   "id": "94e267d3-e3ab-4161-b716-d0f5c1730725",
   "metadata": {},
   "outputs": [],
   "source": [
    "df['Possession'].fillna('Possession by Jun 2021',inplace=True)"
   ]
  },
  {
   "cell_type": "code",
   "execution_count": 31,
   "id": "0a1db12f-2a00-422b-927c-8dd55ebbd05c",
   "metadata": {},
   "outputs": [],
   "source": [
    "df['Possession_Year'] = df.Possession.apply(lambda x :  x.split()[-1])"
   ]
  },
  {
   "cell_type": "code",
   "execution_count": 32,
   "id": "e70ca49b-c223-42c3-a760-4765ed994307",
   "metadata": {},
   "outputs": [
    {
     "data": {
      "text/html": [
       "<div>\n",
       "<style scoped>\n",
       "    .dataframe tbody tr th:only-of-type {\n",
       "        vertical-align: middle;\n",
       "    }\n",
       "\n",
       "    .dataframe tbody tr th {\n",
       "        vertical-align: top;\n",
       "    }\n",
       "\n",
       "    .dataframe thead th {\n",
       "        text-align: right;\n",
       "    }\n",
       "</style>\n",
       "<table border=\"1\" class=\"dataframe\">\n",
       "  <thead>\n",
       "    <tr style=\"text-align: right;\">\n",
       "      <th></th>\n",
       "      <th>bhk</th>\n",
       "      <th>locality</th>\n",
       "      <th>Price</th>\n",
       "      <th>sqft</th>\n",
       "      <th>status</th>\n",
       "      <th>Possession</th>\n",
       "      <th>price_per_sqft</th>\n",
       "      <th>Age_old</th>\n",
       "      <th>bath</th>\n",
       "      <th>Possession_Year</th>\n",
       "    </tr>\n",
       "  </thead>\n",
       "  <tbody>\n",
       "    <tr>\n",
       "      <th>0</th>\n",
       "      <td>2</td>\n",
       "      <td>Tathawade</td>\n",
       "      <td>48 L</td>\n",
       "      <td>950</td>\n",
       "      <td>Under Construction</td>\n",
       "      <td>Possession by Aug 2022</td>\n",
       "      <td>5052</td>\n",
       "      <td>NaN</td>\n",
       "      <td>2.0</td>\n",
       "      <td>2022</td>\n",
       "    </tr>\n",
       "    <tr>\n",
       "      <th>2</th>\n",
       "      <td>2</td>\n",
       "      <td>Ravet</td>\n",
       "      <td>48 L</td>\n",
       "      <td>965</td>\n",
       "      <td>Under Construction</td>\n",
       "      <td>Possession by Mar 2023</td>\n",
       "      <td>4974</td>\n",
       "      <td>NaN</td>\n",
       "      <td>2.0</td>\n",
       "      <td>2023</td>\n",
       "    </tr>\n",
       "    <tr>\n",
       "      <th>3</th>\n",
       "      <td>2</td>\n",
       "      <td>Ravet</td>\n",
       "      <td>50 L</td>\n",
       "      <td>975</td>\n",
       "      <td>Ready to move</td>\n",
       "      <td>Possession by Jun 2021</td>\n",
       "      <td>5128</td>\n",
       "      <td>1.0</td>\n",
       "      <td>2.0</td>\n",
       "      <td>2021</td>\n",
       "    </tr>\n",
       "    <tr>\n",
       "      <th>4</th>\n",
       "      <td>3</td>\n",
       "      <td>Tathawade</td>\n",
       "      <td>62 L</td>\n",
       "      <td>1125</td>\n",
       "      <td>Under Construction</td>\n",
       "      <td>Possession by Mar 2023</td>\n",
       "      <td>5511</td>\n",
       "      <td>NaN</td>\n",
       "      <td>2.0</td>\n",
       "      <td>2023</td>\n",
       "    </tr>\n",
       "    <tr>\n",
       "      <th>6</th>\n",
       "      <td>2</td>\n",
       "      <td>Ravet</td>\n",
       "      <td>50 L</td>\n",
       "      <td>945</td>\n",
       "      <td>Under Construction</td>\n",
       "      <td>Possession by Sep 2022</td>\n",
       "      <td>5291</td>\n",
       "      <td>NaN</td>\n",
       "      <td>2.0</td>\n",
       "      <td>2022</td>\n",
       "    </tr>\n",
       "  </tbody>\n",
       "</table>\n",
       "</div>"
      ],
      "text/plain": [
       "   bhk   locality Price  sqft              status              Possession  \\\n",
       "0    2  Tathawade  48 L   950  Under Construction  Possession by Aug 2022   \n",
       "2    2      Ravet  48 L   965  Under Construction  Possession by Mar 2023   \n",
       "3    2      Ravet  50 L   975       Ready to move  Possession by Jun 2021   \n",
       "4    3  Tathawade  62 L  1125  Under Construction  Possession by Mar 2023   \n",
       "6    2      Ravet  50 L   945  Under Construction  Possession by Sep 2022   \n",
       "\n",
       "  price_per_sqft  Age_old  bath Possession_Year  \n",
       "0          5052       NaN   2.0            2022  \n",
       "2          4974       NaN   2.0            2023  \n",
       "3          5128       1.0   2.0            2021  \n",
       "4          5511       NaN   2.0            2023  \n",
       "6          5291       NaN   2.0            2022  "
      ]
     },
     "execution_count": 32,
     "metadata": {},
     "output_type": "execute_result"
    }
   ],
   "source": [
    "df.head()"
   ]
  },
  {
   "cell_type": "code",
   "execution_count": 33,
   "id": "9586d52b-b99f-407f-bc5a-f0c3c8f4677c",
   "metadata": {},
   "outputs": [
    {
     "data": {
      "text/plain": [
       "(4857, 10)"
      ]
     },
     "execution_count": 33,
     "metadata": {},
     "output_type": "execute_result"
    }
   ],
   "source": [
    "df.shape"
   ]
  },
  {
   "cell_type": "code",
   "execution_count": 34,
   "id": "24b85cec-d788-450b-ad50-ff6d0735c1b3",
   "metadata": {},
   "outputs": [
    {
     "data": {
      "text/plain": [
       "bhk                   0\n",
       "locality              0\n",
       "Price                 0\n",
       "sqft                  0\n",
       "status                0\n",
       "Possession            0\n",
       "price_per_sqft        0\n",
       "Age_old            2694\n",
       "bath               1923\n",
       "Possession_Year       0\n",
       "dtype: int64"
      ]
     },
     "execution_count": 34,
     "metadata": {},
     "output_type": "execute_result"
    }
   ],
   "source": [
    "df.isnull().sum()"
   ]
  },
  {
   "cell_type": "code",
   "execution_count": 35,
   "id": "44bc1cb9-e331-44fb-9c86-a6aeefbbbb60",
   "metadata": {},
   "outputs": [],
   "source": [
    "df['Conversion_Type'] = df.Price.apply(lambda x : x.split()[-1])"
   ]
  },
  {
   "cell_type": "code",
   "execution_count": 36,
   "id": "60be51d8-79c3-4257-a045-fea568c7b229",
   "metadata": {},
   "outputs": [
    {
     "data": {
      "text/plain": [
       "Conversion_Type\n",
       "L     3505\n",
       "Cr    1352\n",
       "Name: count, dtype: int64"
      ]
     },
     "execution_count": 36,
     "metadata": {},
     "output_type": "execute_result"
    }
   ],
   "source": [
    "df.Conversion_Type.value_counts()"
   ]
  },
  {
   "cell_type": "code",
   "execution_count": 37,
   "id": "c9bd41a1-f2c1-4f44-b3f0-e5d03dbf3123",
   "metadata": {},
   "outputs": [],
   "source": [
    "df['Price'] = df.Price.apply(lambda x : x.split()[0])"
   ]
  },
  {
   "cell_type": "code",
   "execution_count": 38,
   "id": "413c9c75-9abd-4f1c-9e57-077e42deb278",
   "metadata": {},
   "outputs": [],
   "source": [
    "df[['Price','Possession_Year','price_per_sqft']] = df[['Price','Possession_Year','price_per_sqft']].apply(pd.to_numeric, errors='coerce')"
   ]
  },
  {
   "cell_type": "code",
   "execution_count": 39,
   "id": "b790a63c-252e-4f19-97c1-999fd51624c3",
   "metadata": {},
   "outputs": [
    {
     "data": {
      "text/plain": [
       "bhk                  int64\n",
       "locality            object\n",
       "Price              float64\n",
       "sqft                 int64\n",
       "status              object\n",
       "Possession          object\n",
       "price_per_sqft       int64\n",
       "Age_old            float64\n",
       "bath               float64\n",
       "Possession_Year      int64\n",
       "Conversion_Type     object\n",
       "dtype: object"
      ]
     },
     "execution_count": 39,
     "metadata": {},
     "output_type": "execute_result"
    }
   ],
   "source": [
    "df.dtypes"
   ]
  },
  {
   "cell_type": "code",
   "execution_count": 40,
   "id": "80aeee29-9d07-4dc4-9a16-1b828bd9be10",
   "metadata": {},
   "outputs": [
    {
     "data": {
      "text/html": [
       "<div>\n",
       "<style scoped>\n",
       "    .dataframe tbody tr th:only-of-type {\n",
       "        vertical-align: middle;\n",
       "    }\n",
       "\n",
       "    .dataframe tbody tr th {\n",
       "        vertical-align: top;\n",
       "    }\n",
       "\n",
       "    .dataframe thead th {\n",
       "        text-align: right;\n",
       "    }\n",
       "</style>\n",
       "<table border=\"1\" class=\"dataframe\">\n",
       "  <thead>\n",
       "    <tr style=\"text-align: right;\">\n",
       "      <th></th>\n",
       "      <th>bhk</th>\n",
       "      <th>locality</th>\n",
       "      <th>Price</th>\n",
       "      <th>sqft</th>\n",
       "      <th>status</th>\n",
       "      <th>Possession</th>\n",
       "      <th>price_per_sqft</th>\n",
       "      <th>Age_old</th>\n",
       "      <th>bath</th>\n",
       "      <th>Possession_Year</th>\n",
       "      <th>Conversion_Type</th>\n",
       "    </tr>\n",
       "  </thead>\n",
       "  <tbody>\n",
       "    <tr>\n",
       "      <th>0</th>\n",
       "      <td>2</td>\n",
       "      <td>Tathawade</td>\n",
       "      <td>48.0</td>\n",
       "      <td>950</td>\n",
       "      <td>Under Construction</td>\n",
       "      <td>Possession by Aug 2022</td>\n",
       "      <td>5052</td>\n",
       "      <td>NaN</td>\n",
       "      <td>2.0</td>\n",
       "      <td>2022</td>\n",
       "      <td>L</td>\n",
       "    </tr>\n",
       "    <tr>\n",
       "      <th>2</th>\n",
       "      <td>2</td>\n",
       "      <td>Ravet</td>\n",
       "      <td>48.0</td>\n",
       "      <td>965</td>\n",
       "      <td>Under Construction</td>\n",
       "      <td>Possession by Mar 2023</td>\n",
       "      <td>4974</td>\n",
       "      <td>NaN</td>\n",
       "      <td>2.0</td>\n",
       "      <td>2023</td>\n",
       "      <td>L</td>\n",
       "    </tr>\n",
       "    <tr>\n",
       "      <th>3</th>\n",
       "      <td>2</td>\n",
       "      <td>Ravet</td>\n",
       "      <td>50.0</td>\n",
       "      <td>975</td>\n",
       "      <td>Ready to move</td>\n",
       "      <td>Possession by Jun 2021</td>\n",
       "      <td>5128</td>\n",
       "      <td>1.0</td>\n",
       "      <td>2.0</td>\n",
       "      <td>2021</td>\n",
       "      <td>L</td>\n",
       "    </tr>\n",
       "    <tr>\n",
       "      <th>4</th>\n",
       "      <td>3</td>\n",
       "      <td>Tathawade</td>\n",
       "      <td>62.0</td>\n",
       "      <td>1125</td>\n",
       "      <td>Under Construction</td>\n",
       "      <td>Possession by Mar 2023</td>\n",
       "      <td>5511</td>\n",
       "      <td>NaN</td>\n",
       "      <td>2.0</td>\n",
       "      <td>2023</td>\n",
       "      <td>L</td>\n",
       "    </tr>\n",
       "    <tr>\n",
       "      <th>6</th>\n",
       "      <td>2</td>\n",
       "      <td>Ravet</td>\n",
       "      <td>50.0</td>\n",
       "      <td>945</td>\n",
       "      <td>Under Construction</td>\n",
       "      <td>Possession by Sep 2022</td>\n",
       "      <td>5291</td>\n",
       "      <td>NaN</td>\n",
       "      <td>2.0</td>\n",
       "      <td>2022</td>\n",
       "      <td>L</td>\n",
       "    </tr>\n",
       "  </tbody>\n",
       "</table>\n",
       "</div>"
      ],
      "text/plain": [
       "   bhk   locality  Price  sqft              status              Possession  \\\n",
       "0    2  Tathawade   48.0   950  Under Construction  Possession by Aug 2022   \n",
       "2    2      Ravet   48.0   965  Under Construction  Possession by Mar 2023   \n",
       "3    2      Ravet   50.0   975       Ready to move  Possession by Jun 2021   \n",
       "4    3  Tathawade   62.0  1125  Under Construction  Possession by Mar 2023   \n",
       "6    2      Ravet   50.0   945  Under Construction  Possession by Sep 2022   \n",
       "\n",
       "   price_per_sqft  Age_old  bath  Possession_Year Conversion_Type  \n",
       "0            5052      NaN   2.0             2022               L  \n",
       "2            4974      NaN   2.0             2023               L  \n",
       "3            5128      1.0   2.0             2021               L  \n",
       "4            5511      NaN   2.0             2023               L  \n",
       "6            5291      NaN   2.0             2022               L  "
      ]
     },
     "execution_count": 40,
     "metadata": {},
     "output_type": "execute_result"
    }
   ],
   "source": [
    "df.head()"
   ]
  },
  {
   "cell_type": "code",
   "execution_count": 41,
   "id": "e3325189-67fe-47a4-b2fc-dbd9d48f7581",
   "metadata": {},
   "outputs": [
    {
     "data": {
      "text/plain": [
       "Conversion_Type\n",
       "L     3505\n",
       "Cr    1352\n",
       "Name: count, dtype: int64"
      ]
     },
     "execution_count": 41,
     "metadata": {},
     "output_type": "execute_result"
    }
   ],
   "source": [
    "df.Conversion_Type.value_counts()"
   ]
  },
  {
   "cell_type": "code",
   "execution_count": 42,
   "id": "d040df49-5c18-492e-9eae-62215a42828c",
   "metadata": {},
   "outputs": [],
   "source": [
    "Price_in_lakhs = []\n",
    "\n",
    "def get_price():\n",
    "    for x,y in zip(df.Conversion_Type,df.Price):\n",
    "        if x == 'Cr':\n",
    "            Price_in_lakhs.append(y*100)\n",
    "        else:\n",
    "            Price_in_lakhs.append(y)"
   ]
  },
  {
   "cell_type": "code",
   "execution_count": 43,
   "id": "4ee96ee0-4ba9-4570-9113-d981693570a8",
   "metadata": {},
   "outputs": [],
   "source": [
    "get_price()"
   ]
  },
  {
   "cell_type": "code",
   "execution_count": 44,
   "id": "3c6918ce-d045-44f7-aff3-03d2b8fd41ef",
   "metadata": {},
   "outputs": [],
   "source": [
    "df['Price_Lakhs'] = Price_in_lakhs"
   ]
  },
  {
   "cell_type": "code",
   "execution_count": 45,
   "id": "5573209d-1a1c-4755-8d62-ce75fa921652",
   "metadata": {},
   "outputs": [],
   "source": [
    "df.drop(columns=['Price','Possession','Conversion_Type'],axis=1,inplace=True)"
   ]
  },
  {
   "cell_type": "code",
   "execution_count": 46,
   "id": "078fcb1d-9c28-4b77-97fa-bed69a27e577",
   "metadata": {},
   "outputs": [
    {
     "data": {
      "text/html": [
       "<div>\n",
       "<style scoped>\n",
       "    .dataframe tbody tr th:only-of-type {\n",
       "        vertical-align: middle;\n",
       "    }\n",
       "\n",
       "    .dataframe tbody tr th {\n",
       "        vertical-align: top;\n",
       "    }\n",
       "\n",
       "    .dataframe thead th {\n",
       "        text-align: right;\n",
       "    }\n",
       "</style>\n",
       "<table border=\"1\" class=\"dataframe\">\n",
       "  <thead>\n",
       "    <tr style=\"text-align: right;\">\n",
       "      <th></th>\n",
       "      <th>bhk</th>\n",
       "      <th>locality</th>\n",
       "      <th>sqft</th>\n",
       "      <th>status</th>\n",
       "      <th>price_per_sqft</th>\n",
       "      <th>Age_old</th>\n",
       "      <th>bath</th>\n",
       "      <th>Possession_Year</th>\n",
       "      <th>Price_Lakhs</th>\n",
       "    </tr>\n",
       "  </thead>\n",
       "  <tbody>\n",
       "    <tr>\n",
       "      <th>8623</th>\n",
       "      <td>3</td>\n",
       "      <td>Dhanori</td>\n",
       "      <td>819</td>\n",
       "      <td>Ready to move</td>\n",
       "      <td>10078</td>\n",
       "      <td>0.0</td>\n",
       "      <td>NaN</td>\n",
       "      <td>2021</td>\n",
       "      <td>82.54</td>\n",
       "    </tr>\n",
       "    <tr>\n",
       "      <th>8624</th>\n",
       "      <td>2</td>\n",
       "      <td>Dhanori</td>\n",
       "      <td>639</td>\n",
       "      <td>Ready to move</td>\n",
       "      <td>9360</td>\n",
       "      <td>0.0</td>\n",
       "      <td>NaN</td>\n",
       "      <td>2021</td>\n",
       "      <td>59.81</td>\n",
       "    </tr>\n",
       "    <tr>\n",
       "      <th>8625</th>\n",
       "      <td>3</td>\n",
       "      <td>Dhanori</td>\n",
       "      <td>826</td>\n",
       "      <td>Ready to move</td>\n",
       "      <td>10082</td>\n",
       "      <td>0.0</td>\n",
       "      <td>NaN</td>\n",
       "      <td>2021</td>\n",
       "      <td>83.28</td>\n",
       "    </tr>\n",
       "    <tr>\n",
       "      <th>8626</th>\n",
       "      <td>3</td>\n",
       "      <td>Dhanori</td>\n",
       "      <td>817</td>\n",
       "      <td>Ready to move</td>\n",
       "      <td>10082</td>\n",
       "      <td>0.0</td>\n",
       "      <td>NaN</td>\n",
       "      <td>2021</td>\n",
       "      <td>82.37</td>\n",
       "    </tr>\n",
       "    <tr>\n",
       "      <th>8634</th>\n",
       "      <td>3</td>\n",
       "      <td>Chikhali</td>\n",
       "      <td>1316</td>\n",
       "      <td>Under Construction</td>\n",
       "      <td>5471</td>\n",
       "      <td>NaN</td>\n",
       "      <td>3.0</td>\n",
       "      <td>2024</td>\n",
       "      <td>72.00</td>\n",
       "    </tr>\n",
       "  </tbody>\n",
       "</table>\n",
       "</div>"
      ],
      "text/plain": [
       "      bhk  locality  sqft              status  price_per_sqft  Age_old  bath  \\\n",
       "8623    3   Dhanori   819       Ready to move           10078      0.0   NaN   \n",
       "8624    2   Dhanori   639       Ready to move            9360      0.0   NaN   \n",
       "8625    3   Dhanori   826       Ready to move           10082      0.0   NaN   \n",
       "8626    3   Dhanori   817       Ready to move           10082      0.0   NaN   \n",
       "8634    3  Chikhali  1316  Under Construction            5471      NaN   3.0   \n",
       "\n",
       "      Possession_Year  Price_Lakhs  \n",
       "8623             2021        82.54  \n",
       "8624             2021        59.81  \n",
       "8625             2021        83.28  \n",
       "8626             2021        82.37  \n",
       "8634             2024        72.00  "
      ]
     },
     "execution_count": 46,
     "metadata": {},
     "output_type": "execute_result"
    }
   ],
   "source": [
    "df.tail()"
   ]
  },
  {
   "cell_type": "code",
   "execution_count": 47,
   "id": "673fe06f-95e2-46f2-9ed0-b8555c12b59d",
   "metadata": {},
   "outputs": [],
   "source": [
    "df.Age_old.fillna(121,inplace=True)"
   ]
  },
  {
   "cell_type": "code",
   "execution_count": 48,
   "id": "4ea2c01f-5144-43cd-9d1f-463dbc2c40d9",
   "metadata": {},
   "outputs": [
    {
     "data": {
      "text/plain": [
       "(4857, 9)"
      ]
     },
     "execution_count": 48,
     "metadata": {},
     "output_type": "execute_result"
    }
   ],
   "source": [
    "df.shape"
   ]
  },
  {
   "cell_type": "code",
   "execution_count": 49,
   "id": "dc61cd58-b219-4a90-b6b2-dcc12dfbdf15",
   "metadata": {},
   "outputs": [],
   "source": [
    "year_list = []\n",
    "\n",
    "def get_year():\n",
    "    for x,y in zip(df.Possession_Year,df.Age_old):\n",
    "        if x == 2121 and y != 121:\n",
    "            year_list.append(2021-y)\n",
    "        elif x != 2121 and y == 121:\n",
    "            year_list.append(x)\n",
    "        elif x == 2121 and y == 121:\n",
    "            year_list.append(2021)\n",
    "        elif x != 2121 and y != 121:\n",
    "            year_list.append(2021-y)"
   ]
  },
  {
   "cell_type": "code",
   "execution_count": 50,
   "id": "d503a682-6f68-45d3-ba5d-7a4fcb17a07f",
   "metadata": {},
   "outputs": [],
   "source": [
    "get_year()"
   ]
  },
  {
   "cell_type": "code",
   "execution_count": 51,
   "id": "5723521c-0d92-4436-bd49-d9be4a49bf8f",
   "metadata": {},
   "outputs": [],
   "source": [
    "df['Build_year'] = year_list"
   ]
  },
  {
   "cell_type": "code",
   "execution_count": 52,
   "id": "1d1c3473-660f-4a8f-85cb-a1ef9e30b475",
   "metadata": {},
   "outputs": [
    {
     "data": {
      "text/plain": [
       "Build_year\n",
       "2026.0    605\n",
       "2025.0    590\n",
       "2024.0    552\n",
       "2023.0    301\n",
       "2027.0    274\n",
       "Name: count, dtype: int64"
      ]
     },
     "execution_count": 52,
     "metadata": {},
     "output_type": "execute_result"
    }
   ],
   "source": [
    "df.Build_year.value_counts().head()"
   ]
  },
  {
   "cell_type": "code",
   "execution_count": 53,
   "id": "506ca331-0f2b-4c48-bbc0-384cd594019b",
   "metadata": {},
   "outputs": [],
   "source": [
    "get_age_number = []\n",
    "\n",
    "def get_age():\n",
    "    for x,y in zip(df.Build_year,df.Age_old):\n",
    "        get_age_number.append(x-2021)"
   ]
  },
  {
   "cell_type": "code",
   "execution_count": 54,
   "id": "043208a4-a620-42ce-a98e-395e5cf496c7",
   "metadata": {},
   "outputs": [],
   "source": [
    "get_age()"
   ]
  },
  {
   "cell_type": "code",
   "execution_count": 55,
   "id": "e9f59cfc-4aa9-4d6e-89ba-fca6bd97225a",
   "metadata": {},
   "outputs": [],
   "source": [
    "df['Age'] = get_age_number"
   ]
  },
  {
   "cell_type": "code",
   "execution_count": 56,
   "id": "9949d47f-56da-41c2-84bb-c5ce2457ece0",
   "metadata": {},
   "outputs": [
    {
     "data": {
      "text/html": [
       "<div>\n",
       "<style scoped>\n",
       "    .dataframe tbody tr th:only-of-type {\n",
       "        vertical-align: middle;\n",
       "    }\n",
       "\n",
       "    .dataframe tbody tr th {\n",
       "        vertical-align: top;\n",
       "    }\n",
       "\n",
       "    .dataframe thead th {\n",
       "        text-align: right;\n",
       "    }\n",
       "</style>\n",
       "<table border=\"1\" class=\"dataframe\">\n",
       "  <thead>\n",
       "    <tr style=\"text-align: right;\">\n",
       "      <th></th>\n",
       "      <th>bhk</th>\n",
       "      <th>locality</th>\n",
       "      <th>sqft</th>\n",
       "      <th>status</th>\n",
       "      <th>price_per_sqft</th>\n",
       "      <th>Age_old</th>\n",
       "      <th>bath</th>\n",
       "      <th>Possession_Year</th>\n",
       "      <th>Price_Lakhs</th>\n",
       "      <th>Build_year</th>\n",
       "      <th>Age</th>\n",
       "    </tr>\n",
       "  </thead>\n",
       "  <tbody>\n",
       "    <tr>\n",
       "      <th>0</th>\n",
       "      <td>2</td>\n",
       "      <td>Tathawade</td>\n",
       "      <td>950</td>\n",
       "      <td>Under Construction</td>\n",
       "      <td>5052</td>\n",
       "      <td>121.0</td>\n",
       "      <td>2.0</td>\n",
       "      <td>2022</td>\n",
       "      <td>48.0</td>\n",
       "      <td>2022.0</td>\n",
       "      <td>1.0</td>\n",
       "    </tr>\n",
       "    <tr>\n",
       "      <th>2</th>\n",
       "      <td>2</td>\n",
       "      <td>Ravet</td>\n",
       "      <td>965</td>\n",
       "      <td>Under Construction</td>\n",
       "      <td>4974</td>\n",
       "      <td>121.0</td>\n",
       "      <td>2.0</td>\n",
       "      <td>2023</td>\n",
       "      <td>48.0</td>\n",
       "      <td>2023.0</td>\n",
       "      <td>2.0</td>\n",
       "    </tr>\n",
       "    <tr>\n",
       "      <th>3</th>\n",
       "      <td>2</td>\n",
       "      <td>Ravet</td>\n",
       "      <td>975</td>\n",
       "      <td>Ready to move</td>\n",
       "      <td>5128</td>\n",
       "      <td>1.0</td>\n",
       "      <td>2.0</td>\n",
       "      <td>2021</td>\n",
       "      <td>50.0</td>\n",
       "      <td>2020.0</td>\n",
       "      <td>-1.0</td>\n",
       "    </tr>\n",
       "    <tr>\n",
       "      <th>4</th>\n",
       "      <td>3</td>\n",
       "      <td>Tathawade</td>\n",
       "      <td>1125</td>\n",
       "      <td>Under Construction</td>\n",
       "      <td>5511</td>\n",
       "      <td>121.0</td>\n",
       "      <td>2.0</td>\n",
       "      <td>2023</td>\n",
       "      <td>62.0</td>\n",
       "      <td>2023.0</td>\n",
       "      <td>2.0</td>\n",
       "    </tr>\n",
       "    <tr>\n",
       "      <th>6</th>\n",
       "      <td>2</td>\n",
       "      <td>Ravet</td>\n",
       "      <td>945</td>\n",
       "      <td>Under Construction</td>\n",
       "      <td>5291</td>\n",
       "      <td>121.0</td>\n",
       "      <td>2.0</td>\n",
       "      <td>2022</td>\n",
       "      <td>50.0</td>\n",
       "      <td>2022.0</td>\n",
       "      <td>1.0</td>\n",
       "    </tr>\n",
       "  </tbody>\n",
       "</table>\n",
       "</div>"
      ],
      "text/plain": [
       "   bhk   locality  sqft              status  price_per_sqft  Age_old  bath  \\\n",
       "0    2  Tathawade   950  Under Construction            5052    121.0   2.0   \n",
       "2    2      Ravet   965  Under Construction            4974    121.0   2.0   \n",
       "3    2      Ravet   975       Ready to move            5128      1.0   2.0   \n",
       "4    3  Tathawade  1125  Under Construction            5511    121.0   2.0   \n",
       "6    2      Ravet   945  Under Construction            5291    121.0   2.0   \n",
       "\n",
       "   Possession_Year  Price_Lakhs  Build_year  Age  \n",
       "0             2022         48.0      2022.0  1.0  \n",
       "2             2023         48.0      2023.0  2.0  \n",
       "3             2021         50.0      2020.0 -1.0  \n",
       "4             2023         62.0      2023.0  2.0  \n",
       "6             2022         50.0      2022.0  1.0  "
      ]
     },
     "execution_count": 56,
     "metadata": {},
     "output_type": "execute_result"
    }
   ],
   "source": [
    "df.head()"
   ]
  },
  {
   "cell_type": "code",
   "execution_count": 57,
   "id": "281356ef-23d2-43fd-a4c4-1dd92434af4e",
   "metadata": {},
   "outputs": [],
   "source": [
    "df.drop(columns=['status','Age_old','Possession_Year'],axis=1,inplace=True)"
   ]
  },
  {
   "cell_type": "code",
   "execution_count": 58,
   "id": "ddf1ae00-dff6-4b1c-9854-9e3a47bb18a0",
   "metadata": {},
   "outputs": [
    {
     "data": {
      "text/html": [
       "<div>\n",
       "<style scoped>\n",
       "    .dataframe tbody tr th:only-of-type {\n",
       "        vertical-align: middle;\n",
       "    }\n",
       "\n",
       "    .dataframe tbody tr th {\n",
       "        vertical-align: top;\n",
       "    }\n",
       "\n",
       "    .dataframe thead th {\n",
       "        text-align: right;\n",
       "    }\n",
       "</style>\n",
       "<table border=\"1\" class=\"dataframe\">\n",
       "  <thead>\n",
       "    <tr style=\"text-align: right;\">\n",
       "      <th></th>\n",
       "      <th>bhk</th>\n",
       "      <th>sqft</th>\n",
       "      <th>price_per_sqft</th>\n",
       "      <th>bath</th>\n",
       "      <th>Price_Lakhs</th>\n",
       "      <th>Build_year</th>\n",
       "      <th>Age</th>\n",
       "    </tr>\n",
       "  </thead>\n",
       "  <tbody>\n",
       "    <tr>\n",
       "      <th>count</th>\n",
       "      <td>4857.000000</td>\n",
       "      <td>4857.000000</td>\n",
       "      <td>4857.000000</td>\n",
       "      <td>2934.000000</td>\n",
       "      <td>4857.000000</td>\n",
       "      <td>4857.000000</td>\n",
       "      <td>4857.000000</td>\n",
       "    </tr>\n",
       "    <tr>\n",
       "      <th>mean</th>\n",
       "      <td>2.272802</td>\n",
       "      <td>1069.606753</td>\n",
       "      <td>8529.422689</td>\n",
       "      <td>2.200409</td>\n",
       "      <td>92.476858</td>\n",
       "      <td>2020.380482</td>\n",
       "      <td>-0.619518</td>\n",
       "    </tr>\n",
       "    <tr>\n",
       "      <th>std</th>\n",
       "      <td>0.756022</td>\n",
       "      <td>594.683249</td>\n",
       "      <td>3133.866601</td>\n",
       "      <td>0.764486</td>\n",
       "      <td>70.074383</td>\n",
       "      <td>7.162144</td>\n",
       "      <td>7.162144</td>\n",
       "    </tr>\n",
       "    <tr>\n",
       "      <th>min</th>\n",
       "      <td>1.000000</td>\n",
       "      <td>241.000000</td>\n",
       "      <td>800.000000</td>\n",
       "      <td>1.000000</td>\n",
       "      <td>11.000000</td>\n",
       "      <td>1899.000000</td>\n",
       "      <td>-122.000000</td>\n",
       "    </tr>\n",
       "    <tr>\n",
       "      <th>25%</th>\n",
       "      <td>2.000000</td>\n",
       "      <td>729.000000</td>\n",
       "      <td>6200.000000</td>\n",
       "      <td>2.000000</td>\n",
       "      <td>53.240000</td>\n",
       "      <td>2016.000000</td>\n",
       "      <td>-5.000000</td>\n",
       "    </tr>\n",
       "    <tr>\n",
       "      <th>50%</th>\n",
       "      <td>2.000000</td>\n",
       "      <td>973.000000</td>\n",
       "      <td>8022.000000</td>\n",
       "      <td>2.000000</td>\n",
       "      <td>75.000000</td>\n",
       "      <td>2023.000000</td>\n",
       "      <td>2.000000</td>\n",
       "    </tr>\n",
       "    <tr>\n",
       "      <th>75%</th>\n",
       "      <td>3.000000</td>\n",
       "      <td>1200.000000</td>\n",
       "      <td>10303.000000</td>\n",
       "      <td>3.000000</td>\n",
       "      <td>105.000000</td>\n",
       "      <td>2025.000000</td>\n",
       "      <td>4.000000</td>\n",
       "    </tr>\n",
       "    <tr>\n",
       "      <th>max</th>\n",
       "      <td>7.000000</td>\n",
       "      <td>9500.000000</td>\n",
       "      <td>26662.000000</td>\n",
       "      <td>9.000000</td>\n",
       "      <td>900.000000</td>\n",
       "      <td>2030.000000</td>\n",
       "      <td>9.000000</td>\n",
       "    </tr>\n",
       "  </tbody>\n",
       "</table>\n",
       "</div>"
      ],
      "text/plain": [
       "               bhk         sqft  price_per_sqft         bath  Price_Lakhs  \\\n",
       "count  4857.000000  4857.000000     4857.000000  2934.000000  4857.000000   \n",
       "mean      2.272802  1069.606753     8529.422689     2.200409    92.476858   \n",
       "std       0.756022   594.683249     3133.866601     0.764486    70.074383   \n",
       "min       1.000000   241.000000      800.000000     1.000000    11.000000   \n",
       "25%       2.000000   729.000000     6200.000000     2.000000    53.240000   \n",
       "50%       2.000000   973.000000     8022.000000     2.000000    75.000000   \n",
       "75%       3.000000  1200.000000    10303.000000     3.000000   105.000000   \n",
       "max       7.000000  9500.000000    26662.000000     9.000000   900.000000   \n",
       "\n",
       "        Build_year          Age  \n",
       "count  4857.000000  4857.000000  \n",
       "mean   2020.380482    -0.619518  \n",
       "std       7.162144     7.162144  \n",
       "min    1899.000000  -122.000000  \n",
       "25%    2016.000000    -5.000000  \n",
       "50%    2023.000000     2.000000  \n",
       "75%    2025.000000     4.000000  \n",
       "max    2030.000000     9.000000  "
      ]
     },
     "execution_count": 58,
     "metadata": {},
     "output_type": "execute_result"
    }
   ],
   "source": [
    "df.describe()"
   ]
  },
  {
   "cell_type": "code",
   "execution_count": 59,
   "id": "24aea419-ffc6-4fab-b667-f1f8da140595",
   "metadata": {},
   "outputs": [
    {
     "data": {
      "text/plain": [
       "<Axes: xlabel='price_per_sqft'>"
      ]
     },
     "execution_count": 59,
     "metadata": {},
     "output_type": "execute_result"
    },
    {
     "data": {
      "image/png": "[encoded data removed]",
      "text/plain": [
       "<Figure size 640x480 with 2 Axes>"
      ]
     },
     "metadata": {},
     "output_type": "display_data"
    },
    {
     "data": {
      "image/png": "[encoded data removed]",
      "text/plain": [
       "<Figure size 640x480 with 2 Axes>"
      ]
     },
     "metadata": {},
     "output_type": "display_data"
    }
   ],
   "source": [
    "fig = plt.figure() # create figure\n",
    "\n",
    "plot1 = fig.add_subplot(1,2,1) # add subplot 1 (1 row, 2 columns, first plot)\n",
    "plot2 = fig.add_subplot(1,2,2) # add subplot 2 (1 row, 2 columns, second plot). See tip below**\n",
    "sns.boxplot(x='Price_Lakhs',data=df,ax=plot1,width=0.5,color='green',fliersize=2,linewidth=1)\n",
    "sns.boxplot(x='sqft',data=df,ax=plot2,width=0.5,color='green',fliersize=2,linewidth=1)\n",
    "\n",
    "\n",
    "\n",
    "fig = plt.figure() # create figure\n",
    "\n",
    "plot1 = fig.add_subplot(1,2,1) # add subplot 1 (1 row, 2 columns, first plot)\n",
    "plot2 = fig.add_subplot(1,2,2) # add subplot 2 (1 row, 2 columns, second plot). See tip below**\n",
    "sns.boxplot(x='Age',data=df,ax=plot1,width=0.5,color='green',fliersize=2,linewidth=1)\n",
    "sns.boxplot(x='price_per_sqft',data=df,ax=plot2,width=0.5,color='green',fliersize=2,linewidth=1)"
   ]
  },
  {
   "cell_type": "code",
   "execution_count": 60,
   "id": "1632dbe9-55b9-483c-bf40-590e64aa0beb",
   "metadata": {},
   "outputs": [
    {
     "data": {
      "text/html": [
       "<div>\n",
       "<style scoped>\n",
       "    .dataframe tbody tr th:only-of-type {\n",
       "        vertical-align: middle;\n",
       "    }\n",
       "\n",
       "    .dataframe tbody tr th {\n",
       "        vertical-align: top;\n",
       "    }\n",
       "\n",
       "    .dataframe thead th {\n",
       "        text-align: right;\n",
       "    }\n",
       "</style>\n",
       "<table border=\"1\" class=\"dataframe\">\n",
       "  <thead>\n",
       "    <tr style=\"text-align: right;\">\n",
       "      <th></th>\n",
       "      <th>bhk</th>\n",
       "      <th>locality</th>\n",
       "      <th>sqft</th>\n",
       "      <th>price_per_sqft</th>\n",
       "      <th>bath</th>\n",
       "      <th>Price_Lakhs</th>\n",
       "      <th>Build_year</th>\n",
       "      <th>Age</th>\n",
       "    </tr>\n",
       "  </thead>\n",
       "  <tbody>\n",
       "    <tr>\n",
       "      <th>0</th>\n",
       "      <td>2</td>\n",
       "      <td>Tathawade</td>\n",
       "      <td>950</td>\n",
       "      <td>5052</td>\n",
       "      <td>2.0</td>\n",
       "      <td>48.0</td>\n",
       "      <td>2022.0</td>\n",
       "      <td>1.0</td>\n",
       "    </tr>\n",
       "    <tr>\n",
       "      <th>2</th>\n",
       "      <td>2</td>\n",
       "      <td>Ravet</td>\n",
       "      <td>965</td>\n",
       "      <td>4974</td>\n",
       "      <td>2.0</td>\n",
       "      <td>48.0</td>\n",
       "      <td>2023.0</td>\n",
       "      <td>2.0</td>\n",
       "    </tr>\n",
       "    <tr>\n",
       "      <th>3</th>\n",
       "      <td>2</td>\n",
       "      <td>Ravet</td>\n",
       "      <td>975</td>\n",
       "      <td>5128</td>\n",
       "      <td>2.0</td>\n",
       "      <td>50.0</td>\n",
       "      <td>2020.0</td>\n",
       "      <td>-1.0</td>\n",
       "    </tr>\n",
       "    <tr>\n",
       "      <th>4</th>\n",
       "      <td>3</td>\n",
       "      <td>Tathawade</td>\n",
       "      <td>1125</td>\n",
       "      <td>5511</td>\n",
       "      <td>2.0</td>\n",
       "      <td>62.0</td>\n",
       "      <td>2023.0</td>\n",
       "      <td>2.0</td>\n",
       "    </tr>\n",
       "    <tr>\n",
       "      <th>6</th>\n",
       "      <td>2</td>\n",
       "      <td>Ravet</td>\n",
       "      <td>945</td>\n",
       "      <td>5291</td>\n",
       "      <td>2.0</td>\n",
       "      <td>50.0</td>\n",
       "      <td>2022.0</td>\n",
       "      <td>1.0</td>\n",
       "    </tr>\n",
       "  </tbody>\n",
       "</table>\n",
       "</div>"
      ],
      "text/plain": [
       "   bhk   locality  sqft  price_per_sqft  bath  Price_Lakhs  Build_year  Age\n",
       "0    2  Tathawade   950            5052   2.0         48.0      2022.0  1.0\n",
       "2    2      Ravet   965            4974   2.0         48.0      2023.0  2.0\n",
       "3    2      Ravet   975            5128   2.0         50.0      2020.0 -1.0\n",
       "4    3  Tathawade  1125            5511   2.0         62.0      2023.0  2.0\n",
       "6    2      Ravet   945            5291   2.0         50.0      2022.0  1.0"
      ]
     },
     "execution_count": 60,
     "metadata": {},
     "output_type": "execute_result"
    }
   ],
   "source": [
    "df.head()"
   ]
  },
  {
   "cell_type": "code",
   "execution_count": 61,
   "id": "819607c0-a00b-40d3-b779-d31d2892ad50",
   "metadata": {},
   "outputs": [],
   "source": [
    "df.to_csv('Pune_Housing-2.csv')"
   ]
  }
 ],
 "metadata": {
  "kernelspec": {
   "display_name": "Python 3 (ipykernel)",
   "language": "python",
   "name": "python3"
  },
  "language_info": {
   "codemirror_mode": {
    "name": "ipython",
    "version": 3
   },
   "file_extension": ".py",
   "mimetype": "text/x-python",
   "name": "python",
   "nbconvert_exporter": "python",
   "pygments_lexer": "ipython3",
   "version": "3.10.9"
  }
 },
 "nbformat": 4,
 "nbformat_minor": 5
}
